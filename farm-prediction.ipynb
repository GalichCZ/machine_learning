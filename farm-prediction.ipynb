{
 "cells": [
  {
   "cell_type": "code",
   "id": "initial_id",
   "metadata": {
    "collapsed": true,
    "ExecuteTime": {
     "end_time": "2025-02-27T21:07:09.106023Z",
     "start_time": "2025-02-27T21:07:08.825838Z"
    }
   },
   "source": [
    "import kagglehub\n",
    "import pandas as pd\n",
    "import numpy as np\n",
    "from sklearn.preprocessing import LabelEncoder, StandardScaler, OneHotEncoder\n",
    "\n",
    "# Download latest version\n",
    "path = kagglehub.dataset_download(\"atharvaingle/crop-recommendation-dataset\")\n",
    "\n",
    "print(\"Path to dataset files:\", path)"
   ],
   "outputs": [
    {
     "name": "stdout",
     "output_type": "stream",
     "text": [
      "Warning: Looks like you're using an outdated `kagglehub` version, please consider updating (latest version: 0.3.10)\n",
      "Path to dataset files: /home/galich/.cache/kagglehub/datasets/atharvaingle/crop-recommendation-dataset/versions/1\n"
     ]
    }
   ],
   "execution_count": 43
  },
  {
   "metadata": {
    "ExecuteTime": {
     "end_time": "2025-02-27T21:07:09.724141Z",
     "start_time": "2025-02-27T21:07:09.714382Z"
    }
   },
   "cell_type": "code",
   "source": [
    "# Load the dataset\n",
    "df = pd.read_csv(f\"{path}/Crop_recommendation.csv\")\n",
    "\n",
    "# Display the first few rows\n",
    "print(df.head())\n",
    "\n",
    "# Check column names\n",
    "print(df.columns)\n"
   ],
   "id": "24a670cc83c7912",
   "outputs": [
    {
     "name": "stdout",
     "output_type": "stream",
     "text": [
      "    N   P   K  temperature   humidity        ph    rainfall label\n",
      "0  90  42  43    20.879744  82.002744  6.502985  202.935536  rice\n",
      "1  85  58  41    21.770462  80.319644  7.038096  226.655537  rice\n",
      "2  60  55  44    23.004459  82.320763  7.840207  263.964248  rice\n",
      "3  74  35  40    26.491096  80.158363  6.980401  242.864034  rice\n",
      "4  78  42  42    20.130175  81.604873  7.628473  262.717340  rice\n",
      "Index(['N', 'P', 'K', 'temperature', 'humidity', 'ph', 'rainfall', 'label'], dtype='object')\n"
     ]
    }
   ],
   "execution_count": 44
  },
  {
   "metadata": {
    "ExecuteTime": {
     "end_time": "2025-02-27T21:07:10.882365Z",
     "start_time": "2025-02-27T21:07:10.864120Z"
    }
   },
   "cell_type": "code",
   "source": [
    "# Encode labels as integers\n",
    "le = LabelEncoder()\n",
    "df['label'] = le.fit_transform(df['label'])  # Converts crop names to integers\n",
    "\n",
    "# Standardize input features\n",
    "scaler = StandardScaler()\n",
    "x = scaler.fit_transform(df.drop(columns=['label']))\n",
    "\n",
    "# One-hot encode labels for multi-class classification\n",
    "encoder = OneHotEncoder(sparse_output=False)\n",
    "y_one_hot = encoder.fit_transform(df[['label']])  # Convert labels to one-hot\n",
    "\n",
    "# Convert to float\n",
    "x = x.astype(float)\n",
    "y_one_hot = y_one_hot.astype(float)\n",
    "\n",
    "print(x.shape, y_one_hot.shape)"
   ],
   "id": "a84300dea72babfd",
   "outputs": [
    {
     "name": "stdout",
     "output_type": "stream",
     "text": [
      "(2200, 7) (2200, 22)\n"
     ]
    }
   ],
   "execution_count": 45
  },
  {
   "metadata": {
    "ExecuteTime": {
     "end_time": "2025-02-27T21:28:47.040285Z",
     "start_time": "2025-02-27T21:28:47.029943Z"
    }
   },
   "cell_type": "code",
   "source": [
    "def outer_product(vec_a, vec_b):\n",
    "    assert len(vec_a) > 0 and len(vec_b) > 0, \"Input vectors must not be empty\"\n",
    "\n",
    "    out = np.zeros((len(vec_a), len(vec_b)))\n",
    "\n",
    "    for i in range(len(vec_a)):  # Iterate over vec_a (rows)\n",
    "        for j in range(len(vec_b)):  # Iterate over vec_b (columns)\n",
    "            out[i][j] = vec_a[i] * vec_b[j]  # Multiply element-wise\n",
    "\n",
    "    return out\n",
    "\n",
    "\n",
    "def softmax(x):\n",
    "    exp_x = np.exp(x - np.max(x))  # Stabilize softmax\n",
    "    return exp_x / np.sum(exp_x)  # Convert scores into probabilities\n",
    "\n",
    "def neural_network(input, weights):\n",
    "    return softmax(np.dot(input, weights))  # Matrix multiplication + softmax\n"
   ],
   "id": "305878083048c05c",
   "outputs": [],
   "execution_count": 65
  },
  {
   "metadata": {
    "ExecuteTime": {
     "end_time": "2025-02-27T21:28:48.398215Z",
     "start_time": "2025-02-27T21:28:48.109916Z"
    }
   },
   "cell_type": "code",
   "source": [
    "# Assuming num_inputs = 7 (features) and num_classes = 22 (crops)\n",
    "num_inputs = 7\n",
    "num_classes = 22\n",
    "\n",
    "weights = np.random.randn(num_inputs, num_classes) * 0.01  # Small random weights\n",
    "alpha = 0.01  # Learning rate\n",
    "epochs = 1\n",
    "\n",
    "for epoch in range(epochs):\n",
    "    total_loss = 0\n",
    "\n",
    "    for i in range(len(x)):  # Loop over dataset\n",
    "        input = x[i]  # Features\n",
    "        true = y_one_hot[i]  # One-hot encoded label\n",
    "\n",
    "        # Forward pass\n",
    "        pred = neural_network(input, weights)\n",
    "\n",
    "        # Compute loss (cross-entropy)\n",
    "        loss = (pred - true) ** 2  # Avoid log(0)\n",
    "        total_loss += loss\n",
    "\n",
    "        # Compute gradient (backpropagation)\n",
    "        delta = pred - true  # Gradient of softmax + cross-entropy\n",
    "        weight_deltas = outer_product(input, delta) # Outer product\n",
    "        # Update weights\n",
    "        weights -= alpha * weight_deltas\n",
    "\n",
    "    print(f\"Epoch {epoch+1}, Loss: {total_loss}\")\n",
    "\n",
    "print(\"Final Weights:\", weights)\n"
   ],
   "id": "10faf71ebd79f734",
   "outputs": [
    {
     "name": "stdout",
     "output_type": "stream",
     "text": [
      "Epoch 1, Loss: [22.10278918 68.21769823 81.6406532  38.98094904 58.63676506 68.47564937\n",
      " 66.81508742 31.69342364 81.43433857 48.4622307  78.9538973  85.74231611\n",
      " 63.51649956 79.71259919 76.87102626 55.34089097 68.95283194 68.00145701\n",
      " 72.45124246 76.7523029  50.88950414 70.83243408]\n",
      "Final Weights: [[-2.62708745e-01  7.58858479e-01 -1.91658149e-01  2.13186162e-02\n",
      "  -6.22741182e-01  1.07875332e+00  1.19209791e+00 -6.94783335e-02\n",
      "   4.41119986e-01 -1.87893753e-01 -6.54002568e-01  3.27314797e-01\n",
      "  -5.77894038e-01 -3.71781630e-01 -4.93989495e-01  6.05076667e-01\n",
      "  -6.25004224e-01 -1.54922867e-02 -4.53965718e-01 -4.74037081e-01\n",
      "   2.21428175e-01  4.34258318e-01]\n",
      " [ 8.28740887e-01  7.34210381e-01  3.98668109e-01  8.74049406e-02\n",
      "  -7.34585579e-01 -5.49450126e-01 -3.05030191e-02  3.37359398e-01\n",
      "   4.60011538e-04  1.76795246e-01  4.87320055e-01  3.10054905e-02\n",
      "  -4.87951422e-01 -3.63745959e-02  5.88774130e-02 -5.84912173e-01\n",
      "  -6.87915881e-01  2.86278357e-01  4.50364796e-01 -4.22845184e-01\n",
      "   8.57845588e-02 -4.24390231e-01]\n",
      " [ 1.07144850e+00  1.34696272e-02 -3.17670636e-01  4.31671878e-01\n",
      "  -1.51435863e-01 -1.82071039e-01 -2.89549929e-01  5.10657137e-01\n",
      "   2.99879802e-02 -7.21999977e-02 -4.03444693e-01 -3.29144944e-01\n",
      "  -1.13522088e-01 -1.28543197e-01 -2.11523647e-01  2.40815649e-01\n",
      "  -4.48678600e-01  1.78897069e-01 -2.74300804e-01  1.70932832e-01\n",
      "   9.58709820e-02  2.07428803e-01]\n",
      " [-2.34263624e-01  1.88283118e-01  4.88018497e-01 -3.52910908e-01\n",
      "   2.29165604e-01 -4.72029764e-02 -2.74269981e-01  1.92618282e-02\n",
      "  -1.46635421e-01 -5.12981488e-01 -1.59031104e-01 -4.57388397e-01\n",
      "   6.80694357e-01  1.45263185e-01  2.39804385e-01  3.05282441e-01\n",
      "  -4.38317149e-01  1.06420563e+00  8.19500270e-02 -4.01870285e-01\n",
      "  -2.68447527e-01 -1.55057246e-01]\n",
      " [ 3.15559115e-01  1.85488313e-01 -2.23490197e-01 -7.17324200e-01\n",
      "   7.33816075e-01 -4.88979837e-01  3.11848067e-01 -8.56467966e-03\n",
      "   3.98707087e-01 -8.79814403e-01 -2.43487772e-01 -2.07458414e-01\n",
      "  -8.00567417e-01 -6.10793577e-01  4.33904440e-01  5.25066231e-01\n",
      "   5.79757073e-01  6.48117395e-01 -6.54687318e-01  4.40660496e-01\n",
      "   6.89799090e-02  1.84499439e-01]\n",
      " [-2.46230775e-01 -5.06218569e-01  5.40727572e-01  3.15822679e-01\n",
      "  -4.92262351e-01  3.18575409e-01  3.01135080e-01 -7.79303612e-02\n",
      "   1.96144322e-01 -1.88513911e-01  4.44458182e-01 -2.35779687e-01\n",
      "  -6.41152344e-01  1.03867515e-01  9.13484098e-02 -2.16425605e-01\n",
      "   5.40169528e-01  2.74895023e-01 -3.22882885e-01 -1.33913831e-01\n",
      "  -5.54243094e-02 -2.68979431e-02]\n",
      " [ 9.74332882e-02  1.08512164e-01 -3.89713820e-01 -1.04822199e-01\n",
      "   8.43489178e-01  8.21702514e-01 -4.65261296e-01 -2.16454264e-01\n",
      "   1.00115904e+00 -9.76745350e-03 -8.36927816e-01 -1.97061937e-01\n",
      "  -1.49487118e-01 -4.72392423e-01 -5.92005987e-01 -8.55675030e-01\n",
      "  -5.38518990e-02  3.57561077e-01  6.25657334e-01 -6.73100820e-03\n",
      "   7.74439779e-01 -3.09500491e-01]]\n"
     ]
    }
   ],
   "execution_count": 66
  },
  {
   "metadata": {
    "ExecuteTime": {
     "end_time": "2025-02-27T21:28:51.625199Z",
     "start_time": "2025-02-27T21:28:51.615322Z"
    }
   },
   "cell_type": "code",
   "source": [
    "def predict_crop(input_features):\n",
    "    input_features = scaler.transform([input_features])  # Normalize input\n",
    "    probs = neural_network(input_features[0], weights)  # Get probability distribution\n",
    "    predicted_index = np.argmax(probs)  # Crop with highest probability\n",
    "    return le.inverse_transform([predicted_index])[0]  # Convert index to crop name\n",
    "\n",
    "# Example prediction\n",
    "test_input = [100, 48, 17, 23, 83, 7, 66]  # Example soil & climate values\n",
    "predicted_crop = predict_crop(test_input)\n",
    "print(\"Predicted Crop:\", predicted_crop)\n"
   ],
   "id": "f7072eca79b17ff9",
   "outputs": [
    {
     "name": "stdout",
     "output_type": "stream",
     "text": [
      "Predicted Crop: cotton\n"
     ]
    },
    {
     "name": "stderr",
     "output_type": "stream",
     "text": [
      "/home/galich/miniconda3/lib/python3.12/site-packages/sklearn/utils/validation.py:2739: UserWarning: X does not have valid feature names, but StandardScaler was fitted with feature names\n",
      "  warnings.warn(\n"
     ]
    }
   ],
   "execution_count": 67
  }
 ],
 "metadata": {
  "kernelspec": {
   "display_name": "Python 3",
   "language": "python",
   "name": "python3"
  },
  "language_info": {
   "codemirror_mode": {
    "name": "ipython",
    "version": 2
   },
   "file_extension": ".py",
   "mimetype": "text/x-python",
   "name": "python",
   "nbconvert_exporter": "python",
   "pygments_lexer": "ipython2",
   "version": "2.7.6"
  }
 },
 "nbformat": 4,
 "nbformat_minor": 5
}
