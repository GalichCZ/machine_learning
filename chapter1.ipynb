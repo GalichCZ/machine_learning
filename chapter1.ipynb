{
 "cells": [
  {
   "cell_type": "code",
   "id": "initial_id",
   "metadata": {
    "collapsed": true,
    "ExecuteTime": {
     "end_time": "2025-01-08T16:51:20.251879Z",
     "start_time": "2025-01-08T16:51:20.246614Z"
    }
   },
   "source": "print(\"hello world\")",
   "outputs": [
    {
     "name": "stdout",
     "output_type": "stream",
     "text": [
      "hello world\n"
     ]
    }
   ],
   "execution_count": 3
  },
  {
   "metadata": {
    "ExecuteTime": {
     "end_time": "2025-01-08T16:51:21.109222Z",
     "start_time": "2025-01-08T16:51:21.103976Z"
    }
   },
   "cell_type": "code",
   "source": [
    "weight = 0.1\n",
    "def neural_network(input, weight):\n",
    "    prediction = input * weight\n",
    "    return prediction"
   ],
   "id": "d4cdc75ef38cb67f",
   "outputs": [],
   "execution_count": 4
  },
  {
   "metadata": {
    "ExecuteTime": {
     "end_time": "2025-01-08T16:51:21.658564Z",
     "start_time": "2025-01-08T16:51:21.652893Z"
    }
   },
   "cell_type": "code",
   "source": [
    "number_of_toes = [8.5, 9.5, 10, 9]\n",
    "input = number_of_toes[0]\n",
    "pred = neural_network(input, weight)\n",
    "print(pred)"
   ],
   "id": "ce374aa27a2e7b6c",
   "outputs": [
    {
     "name": "stdout",
     "output_type": "stream",
     "text": [
      "0.8500000000000001\n"
     ]
    }
   ],
   "execution_count": 5
  },
  {
   "metadata": {
    "ExecuteTime": {
     "end_time": "2025-01-08T16:51:22.079252Z",
     "start_time": "2025-01-08T16:51:22.075314Z"
    }
   },
   "cell_type": "code",
   "source": [
    "def w_sum(a, b):\n",
    "    assert(len(a) == len(b))\n",
    "    output = 0\n",
    "    for i in range(len(a)):\n",
    "        output += (a[i] * b[i])\n",
    "    return output"
   ],
   "id": "59a91294b9e6498d",
   "outputs": [],
   "execution_count": 6
  },
  {
   "metadata": {
    "ExecuteTime": {
     "end_time": "2025-01-08T16:51:22.463911Z",
     "start_time": "2025-01-08T16:51:22.458904Z"
    }
   },
   "cell_type": "code",
   "source": [
    "weights = [0.1, 0.2, 0]\n",
    "def neural_network2(input, weights):\n",
    "    prediction = w_sum(input, weights)\n",
    "    return prediction"
   ],
   "id": "a902f13328e7c57d",
   "outputs": [],
   "execution_count": 7
  },
  {
   "metadata": {
    "ExecuteTime": {
     "end_time": "2025-01-08T16:51:22.844393Z",
     "start_time": "2025-01-08T16:51:22.837668Z"
    }
   },
   "cell_type": "code",
   "source": [
    "toes = [8.5, 9.5, 9.9, 9]\n",
    "wlrec = [0.65, 0.8, 0.8, 0.9]\n",
    "nfans = [1.2, 1.3, 0.5, 1.0]\n",
    "\n",
    "input = [toes[0], wlrec[0], nfans[0]]\n",
    "prediction = neural_network2(input, weights)\n",
    "print(prediction)"
   ],
   "id": "6820c0ee7fb97837",
   "outputs": [
    {
     "name": "stdout",
     "output_type": "stream",
     "text": [
      "0.9800000000000001\n"
     ]
    }
   ],
   "execution_count": 8
  },
  {
   "metadata": {
    "ExecuteTime": {
     "end_time": "2025-01-08T16:51:23.333853Z",
     "start_time": "2025-01-08T16:51:23.154231Z"
    }
   },
   "cell_type": "code",
   "source": "import numpy as np",
   "id": "f29b86c5301ad7eb",
   "outputs": [],
   "execution_count": 9
  },
  {
   "metadata": {
    "ExecuteTime": {
     "end_time": "2025-01-08T16:51:23.601033Z",
     "start_time": "2025-01-08T16:51:23.596808Z"
    }
   },
   "cell_type": "code",
   "source": [
    "weights_np = np.array(weights)\n",
    "def neural_network_np(input, weights):\n",
    "    prediction = input.dot(weights)\n",
    "    return prediction\n"
   ],
   "id": "415b3f262696293a",
   "outputs": [],
   "execution_count": 10
  },
  {
   "metadata": {
    "ExecuteTime": {
     "end_time": "2025-01-08T16:51:24.001729Z",
     "start_time": "2025-01-08T16:51:23.995414Z"
    }
   },
   "cell_type": "code",
   "source": [
    "toes_np = np.array(toes)\n",
    "wlrec_np = np.array(wlrec)\n",
    "nfans_np = np.array(nfans)\n",
    "\n",
    "input = np.array([toes_np[0], wlrec_np[0], nfans_np[0]])\n",
    "prediction = neural_network_np(input, weights_np)\n",
    "print(prediction)"
   ],
   "id": "fffc7ebd2b92be6",
   "outputs": [
    {
     "name": "stdout",
     "output_type": "stream",
     "text": [
      "0.9800000000000001\n"
     ]
    }
   ],
   "execution_count": 11
  },
  {
   "metadata": {},
   "cell_type": "markdown",
   "source": "### Many outputs",
   "id": "b58aca572f7dd16f"
  },
  {
   "metadata": {
    "ExecuteTime": {
     "end_time": "2025-01-08T16:51:24.930514Z",
     "start_time": "2025-01-08T16:51:24.924593Z"
    }
   },
   "cell_type": "code",
   "source": [
    "weights = [0.3, 0.2, 0.9]\n",
    "\n",
    "def ele_mul(number, vector):\n",
    "    output = [0,0,0]\n",
    "    assert(len(output) == len(vector))\n",
    "    for i in range(len(vector)):\n",
    "        output[i] = number * vector[i]\n",
    "    return output\n",
    "\n",
    "def neural_network_3(input, weights):\n",
    "    pred = ele_mul(input, weights)\n",
    "    return pred"
   ],
   "id": "e895ac4bcb8f152b",
   "outputs": [],
   "execution_count": 12
  },
  {
   "metadata": {
    "ExecuteTime": {
     "end_time": "2025-01-08T16:51:25.491606Z",
     "start_time": "2025-01-08T16:51:25.486020Z"
    }
   },
   "cell_type": "code",
   "source": [
    "input = wlrec[0]\n",
    "prediction = neural_network_3(input, weights)\n",
    "print(prediction)"
   ],
   "id": "648292716c2341a",
   "outputs": [
    {
     "name": "stdout",
     "output_type": "stream",
     "text": [
      "[0.195, 0.13, 0.5850000000000001]\n"
     ]
    }
   ],
   "execution_count": 13
  },
  {
   "metadata": {},
   "cell_type": "markdown",
   "source": "### Many inputs, Many outputs",
   "id": "2811b2f4735f007d"
  },
  {
   "metadata": {
    "ExecuteTime": {
     "end_time": "2025-01-08T16:51:26.496123Z",
     "start_time": "2025-01-08T16:51:26.488331Z"
    }
   },
   "cell_type": "code",
   "source": [
    "weights = [\n",
    "# #games, %wins, #fans\n",
    "    [0.1, 0.1, -0.3], #injuries?\n",
    "    [0.1, 0.2, 0.0], #win?\n",
    "    [0.0, 1.3, 0.1], #sadness?\n",
    "]\n",
    "\n",
    "def vect_mat_mul(vect, matrix):\n",
    "    assert(len(vect) == len(matrix))\n",
    "    output = [0,0,0]\n",
    "\n",
    "    for i in range(len(vect)):\n",
    "        output[i] = w_sum(vect, matrix[i])\n",
    "\n",
    "    return output\n",
    "\n",
    "def neural_network_4(input, weights):\n",
    "    pred = vect_mat_mul(input, weights)\n",
    "    return pred"
   ],
   "id": "5ef9b61eab212ee7",
   "outputs": [],
   "execution_count": 14
  },
  {
   "metadata": {
    "ExecuteTime": {
     "end_time": "2025-01-08T16:51:27.039190Z",
     "start_time": "2025-01-08T16:51:27.034174Z"
    }
   },
   "cell_type": "code",
   "source": [
    "# toes = [8.5, 9.5, 9.9, 9.0]\n",
    "# wlrec = [0.65, 0.8, 0.8, 0.9]\n",
    "# nfans = [1.2, 1.3, 0.5, 1.0]\n",
    "input = [toes[0], wlrec[0], nfans[0]]\n",
    "prediction = neural_network_4(input, weights)\n",
    "print(prediction)"
   ],
   "id": "4907f1004fcd1a50",
   "outputs": [
    {
     "name": "stdout",
     "output_type": "stream",
     "text": [
      "[0.555, 0.9800000000000001, 0.9650000000000001]\n"
     ]
    }
   ],
   "execution_count": 15
  },
  {
   "metadata": {},
   "cell_type": "markdown",
   "source": "### Hidden Layer",
   "id": "5ab2e78b37c26e2"
  },
  {
   "metadata": {
    "ExecuteTime": {
     "end_time": "2025-01-08T16:51:28.800241Z",
     "start_time": "2025-01-08T16:51:28.792614Z"
    }
   },
   "cell_type": "code",
   "source": [
    "ih_wgt = [\n",
    "# #games %win #fans\n",
    "    [0.1, 0.2, -0.1], #hid[0]\n",
    "    [-0.1, 0.1, 0.9], #hid[1]\n",
    "    [0.1, 0.4, 0.1] #hid[2]\n",
    "]\n",
    "\n",
    "hp_wgt = [\n",
    "#hid[0] hid[1] hid[2]\n",
    "    [0.3, 1.1, -0.3], #injuries?\n",
    "    [0.1, 0.2, 0.0], #win?\n",
    "    [0.0, 1.3, 0.1] #sadness?\n",
    "]\n",
    "\n",
    "weights = [ih_wgt, hp_wgt]\n",
    "\n",
    "def neural_network_5(input, weights):\n",
    "    hid = vect_mat_mul(input, weights[0])\n",
    "    pred = vect_mat_mul(hid, weights[1])\n",
    "    return pred"
   ],
   "id": "7ff1f2db7e856e57",
   "outputs": [],
   "execution_count": 16
  },
  {
   "metadata": {
    "ExecuteTime": {
     "end_time": "2025-01-08T16:51:29.745541Z",
     "start_time": "2025-01-08T16:51:29.740560Z"
    }
   },
   "cell_type": "code",
   "source": [
    "prediction = neural_network_5(input, weights)\n",
    "print(prediction)"
   ],
   "id": "43d12336c4c10413",
   "outputs": [
    {
     "name": "stdout",
     "output_type": "stream",
     "text": [
      "[0.21350000000000002, 0.14500000000000002, 0.5065]\n"
     ]
    }
   ],
   "execution_count": 17
  },
  {
   "metadata": {
    "ExecuteTime": {
     "end_time": "2025-01-08T16:57:56.717319Z",
     "start_time": "2025-01-08T16:57:56.709017Z"
    }
   },
   "cell_type": "code",
   "source": [
    "#numpy version\n",
    "ih_wgt = np.array([\n",
    "    [0.1, 0.2, -0.1],\n",
    "    [-0.1, 0.1, 0.9],\n",
    "    [0.1, 0.4, 0.1]\n",
    "]).T\n",
    "\n",
    "hp_wgt = np.array([\n",
    "    [0.3, 1.1, -0.3],\n",
    "    [0.1, 0.2, 0.0],\n",
    "    [0.0, 1.3, 0.1]\n",
    "]).T\n",
    "\n",
    "weights = [ih_wgt, hp_wgt]\n",
    "\n",
    "def neural_network_6(input, weights):\n",
    "    hid = input.dot(weights[0])\n",
    "    pred = hid.dot(weights[1])\n",
    "    return pred"
   ],
   "id": "ce101b4e7d9cb965",
   "outputs": [],
   "execution_count": 19
  },
  {
   "metadata": {
    "ExecuteTime": {
     "end_time": "2025-01-08T16:58:29.246256Z",
     "start_time": "2025-01-08T16:58:29.241186Z"
    }
   },
   "cell_type": "code",
   "source": [
    "input = np.array([toes_np[0], wlrec_np[0], nfans_np[0]])\n",
    "\n",
    "prediction = neural_network_6(input, weights)\n",
    "print(prediction)"
   ],
   "id": "b98ebb8873467cbc",
   "outputs": [
    {
     "name": "stdout",
     "output_type": "stream",
     "text": [
      "[0.2135 0.145  0.5065]\n"
     ]
    }
   ],
   "execution_count": 21
  },
  {
   "metadata": {},
   "cell_type": "code",
   "outputs": [],
   "execution_count": null,
   "source": "",
   "id": "b12287ca33495e9c"
  }
 ],
 "metadata": {
  "kernelspec": {
   "display_name": "Python 3",
   "language": "python",
   "name": "python3"
  },
  "language_info": {
   "codemirror_mode": {
    "name": "ipython",
    "version": 2
   },
   "file_extension": ".py",
   "mimetype": "text/x-python",
   "name": "python",
   "nbconvert_exporter": "python",
   "pygments_lexer": "ipython2",
   "version": "2.7.6"
  }
 },
 "nbformat": 4,
 "nbformat_minor": 5
}
