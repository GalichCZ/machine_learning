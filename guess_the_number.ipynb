{
 "cells": [
  {
   "metadata": {
    "ExecuteTime": {
     "end_time": "2025-01-26T19:58:04.308987Z",
     "start_time": "2025-01-26T19:58:03.852076Z"
    }
   },
   "cell_type": "code",
   "source": [
    "### NOT YET READYYYYYY!!!!\n",
    "import os\n",
    "os.environ['TF_CPP_MIN_LOG_LEVEL'] = '2'\n",
    "!which python"
   ],
   "id": "5099d600db39e769",
   "outputs": [
    {
     "name": "stdout",
     "output_type": "stream",
     "text": [
      "/home/galich/miniconda3/bin/python\r\n"
     ]
    }
   ],
   "execution_count": 4
  },
  {
   "cell_type": "code",
   "id": "initial_id",
   "metadata": {
    "collapsed": true,
    "ExecuteTime": {
     "end_time": "2025-01-26T19:56:18.432Z",
     "start_time": "2025-01-26T19:56:17.865501Z"
    }
   },
   "source": [
    "import tensorflow as tf\n",
    "import numpy as np\n",
    "\n",
    "print(\"TensorFlow version:\", tf.__version__)\n",
    "print(\"NumPy version:\", np.__version__)"
   ],
   "outputs": [
    {
     "ename": "ModuleNotFoundError",
     "evalue": "No module named 'tensorflow.keras'",
     "output_type": "error",
     "traceback": [
      "\u001B[0;31m---------------------------------------------------------------------------\u001B[0m",
      "\u001B[0;31mModuleNotFoundError\u001B[0m                       Traceback (most recent call last)",
      "Cell \u001B[0;32mIn[3], line 3\u001B[0m\n\u001B[1;32m      1\u001B[0m \u001B[38;5;28;01mimport\u001B[39;00m \u001B[38;5;21;01mtensorflow\u001B[39;00m \u001B[38;5;28;01mas\u001B[39;00m \u001B[38;5;21;01mtf\u001B[39;00m\n\u001B[1;32m      2\u001B[0m \u001B[38;5;28;01mimport\u001B[39;00m \u001B[38;5;21;01mnumpy\u001B[39;00m \u001B[38;5;28;01mas\u001B[39;00m \u001B[38;5;21;01mnp\u001B[39;00m\n\u001B[0;32m----> 3\u001B[0m \u001B[38;5;28;01mimport\u001B[39;00m \u001B[38;5;21;01mtensorflow\u001B[39;00m\u001B[38;5;21;01m.\u001B[39;00m\u001B[38;5;21;01mkeras\u001B[39;00m \u001B[38;5;28;01mas\u001B[39;00m \u001B[38;5;21;01mkeras\u001B[39;00m\n\u001B[1;32m      4\u001B[0m \u001B[38;5;28;01mfrom\u001B[39;00m \u001B[38;5;21;01mkeras\u001B[39;00m\u001B[38;5;21;01m.\u001B[39;00m\u001B[38;5;21;01mdatasets\u001B[39;00m \u001B[38;5;28;01mimport\u001B[39;00m mnist\n\u001B[1;32m      6\u001B[0m \u001B[38;5;28mprint\u001B[39m(\u001B[38;5;124m\"\u001B[39m\u001B[38;5;124mTensorFlow version:\u001B[39m\u001B[38;5;124m\"\u001B[39m, tf\u001B[38;5;241m.\u001B[39m__version__)\n",
      "\u001B[0;31mModuleNotFoundError\u001B[0m: No module named 'tensorflow.keras'"
     ]
    }
   ],
   "execution_count": 3
  },
  {
   "metadata": {
    "ExecuteTime": {
     "end_time": "2025-01-26T18:11:31.585237Z",
     "start_time": "2025-01-26T18:11:31.581599Z"
    }
   },
   "cell_type": "code",
   "source": [
    "def w_sum(a,b):\n",
    "    assert len(a) == len(b)\n",
    "\n",
    "    return sum(a[i] * b[i] for i in range(len(a)))"
   ],
   "id": "7e7450c4a3cee974",
   "outputs": [],
   "execution_count": 2
  },
  {
   "metadata": {
    "ExecuteTime": {
     "end_time": "2025-01-26T18:16:33.052419Z",
     "start_time": "2025-01-26T18:16:33.047605Z"
    }
   },
   "cell_type": "code",
   "source": [
    "def vect_mat_mul(vector, matrix):\n",
    "    assert len(vector) == len(matrix[0])\n",
    "    return [w_sum(vector, row) for row in matrix]"
   ],
   "id": "96004a5b2e6df3f7",
   "outputs": [],
   "execution_count": 3
  },
  {
   "metadata": {
    "ExecuteTime": {
     "end_time": "2025-01-26T18:17:42.492788Z",
     "start_time": "2025-01-26T18:17:42.488387Z"
    }
   },
   "cell_type": "code",
   "source": [
    "def zeros_matrix(width, height):\n",
    "    return [[0 for _ in range(width)] for _ in range(height)]"
   ],
   "id": "155dfbe196b6a677",
   "outputs": [],
   "execution_count": 4
  },
  {
   "metadata": {
    "ExecuteTime": {
     "end_time": "2025-01-26T18:19:28.563954Z",
     "start_time": "2025-01-26T18:19:28.559878Z"
    }
   },
   "cell_type": "code",
   "source": [
    "def outer_prod(vec_a, vec_b):\n",
    "    assert len(vec_a) == len(vec_b)\n",
    "\n",
    "    return [[vec_a[i] * vec_b[j] for j in range(len(vec_b))] for i in range(len(vec_a))]"
   ],
   "id": "7e1a4012d9b43248",
   "outputs": [],
   "execution_count": 5
  },
  {
   "metadata": {
    "ExecuteTime": {
     "end_time": "2025-01-26T18:21:03.412713Z",
     "start_time": "2025-01-26T18:21:03.408203Z"
    }
   },
   "cell_type": "code",
   "source": [
    "#The softmax function normalizes the output so that all predictions sum to 1, making them interpretable as probabilities.\n",
    "def softmax(vector):\n",
    "    exp_vector = np.exp(vector - np.max(vector))\n",
    "\n",
    "    return exp_vector / exp_vector.sum()"
   ],
   "id": "240863ac52614204",
   "outputs": [],
   "execution_count": 7
  },
  {
   "metadata": {
    "ExecuteTime": {
     "end_time": "2025-01-26T18:22:01.872708Z",
     "start_time": "2025-01-26T18:22:01.867952Z"
    }
   },
   "cell_type": "code",
   "source": [
    "#This function measures the difference between the predicted probabilities and the true one-hot encoded vector.\n",
    "def cross_entropy_loss(pred, true):\n",
    "    return -sum(true[i] * np.log(pred + 1e-15) for i in range(len(true)))"
   ],
   "id": "2130b3a4e73b46d8",
   "outputs": [],
   "execution_count": 8
  },
  {
   "metadata": {
    "ExecuteTime": {
     "end_time": "2025-01-26T19:52:49.258449Z",
     "start_time": "2025-01-26T19:52:49.231458Z"
    }
   },
   "cell_type": "code",
   "source": "tensorflow.device()",
   "id": "ee1ee7316dda2c2c",
   "outputs": [
    {
     "ename": "NameError",
     "evalue": "name 'tensorflow' is not defined",
     "output_type": "error",
     "traceback": [
      "\u001B[0;31m---------------------------------------------------------------------------\u001B[0m",
      "\u001B[0;31mNameError\u001B[0m                                 Traceback (most recent call last)",
      "Cell \u001B[0;32mIn[16], line 1\u001B[0m\n\u001B[0;32m----> 1\u001B[0m tensorflow\u001B[38;5;241m.\u001B[39mdevice()\n",
      "\u001B[0;31mNameError\u001B[0m: name 'tensorflow' is not defined"
     ]
    }
   ],
   "execution_count": 16
  },
  {
   "metadata": {},
   "cell_type": "code",
   "outputs": [],
   "execution_count": null,
   "source": "",
   "id": "197abffdedc31b8b"
  }
 ],
 "metadata": {
  "kernelspec": {
   "display_name": "Python 3",
   "language": "python",
   "name": "python3"
  },
  "language_info": {
   "codemirror_mode": {
    "name": "ipython",
    "version": 2
   },
   "file_extension": ".py",
   "mimetype": "text/x-python",
   "name": "python",
   "nbconvert_exporter": "python",
   "pygments_lexer": "ipython2",
   "version": "2.7.6"
  }
 },
 "nbformat": 4,
 "nbformat_minor": 5
}
