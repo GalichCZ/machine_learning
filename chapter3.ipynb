{
 "cells": [
  {
   "metadata": {},
   "cell_type": "markdown",
   "source": "### Many inputs one output",
   "id": "2ed6f271f64d950b"
  },
  {
   "cell_type": "code",
   "id": "initial_id",
   "metadata": {
    "collapsed": true,
    "ExecuteTime": {
     "end_time": "2025-01-26T15:05:44.772264Z",
     "start_time": "2025-01-26T15:05:44.654605Z"
    }
   },
   "source": [
    "def neural_network(input, weights):\n",
    "    out = 0\n",
    "    for i in range (len(weights)):\n",
    "        out += weights[i] * input[i]\n",
    "    return out"
   ],
   "outputs": [],
   "execution_count": 13
  },
  {
   "metadata": {},
   "cell_type": "code",
   "source": [
    "def ele_mul(scalar, vector):\n",
    "    out = [0,0,0]\n",
    "    for i in range (len(vector)):\n",
    "        out[i] = scalar * vector[i]\n",
    "    return out"
   ],
   "id": "2ce58fbdc6018b8d",
   "outputs": [],
   "execution_count": null
  },
  {
   "metadata": {
    "ExecuteTime": {
     "end_time": "2025-01-20T21:50:20.052918Z",
     "start_time": "2025-01-20T21:50:20.046374Z"
    }
   },
   "cell_type": "code",
   "source": [
    "toes = [8.5, 9.5, 9.9, 9.0]\n",
    "wlrec = [0.65, 0.8, 0.8, 0.9]\n",
    "nfans = [1.2, 1.3, 0.5, 1.0]\n",
    "\n",
    "win_or_lose_bin = [1,1,0,1]"
   ],
   "id": "ccc2be6ab86036f8",
   "outputs": [],
   "execution_count": 3
  },
  {
   "metadata": {
    "ExecuteTime": {
     "end_time": "2025-01-20T21:56:35.044404Z",
     "start_time": "2025-01-20T21:56:35.038178Z"
    }
   },
   "cell_type": "code",
   "source": [
    "true = win_or_lose_bin[0]\n",
    "\n",
    "alpha = 0.0099\n",
    "input = [toes[0], wlrec[0], nfans[0]]\n",
    "weights = [0.1, 0.2, -0.1]"
   ],
   "id": "e42d4283f2a09642",
   "outputs": [],
   "execution_count": 12
  },
  {
   "metadata": {
    "ExecuteTime": {
     "end_time": "2025-01-20T21:57:20.624633Z",
     "start_time": "2025-01-20T21:57:20.616632Z"
    }
   },
   "cell_type": "code",
   "source": [
    "for iter in range(15):\n",
    "    pred = neural_network(input, weights)\n",
    "\n",
    "    error = (pred - true)**2\n",
    "    delta = pred - true\n",
    "\n",
    "    weight_deltas = ele_mul(delta, input)\n",
    "\n",
    "    print(\"Iteration:\", str(iter+1))\n",
    "    print(\"Pred:\", str(pred))\n",
    "    print(\"Error:\", str(error))\n",
    "    print(\"Delta:\", str(delta))\n",
    "    print(\"Weights:\", str(weights))\n",
    "    print(\"Weights Delta:\", str(weight_deltas), \"\\n\")\n",
    "\n",
    "    for i in range (len(weights)):\n",
    "        weights[i] -= alpha * weight_deltas[i]"
   ],
   "id": "e08c813bbf5d96a1",
   "outputs": [
    {
     "name": "stdout",
     "output_type": "stream",
     "text": [
      "Iteration: 1\n",
      "Pred: 1.0\n",
      "Error: 0.0\n",
      "Delta: 0.0\n",
      "Weights: [0.11605667060212514, 0.20122786304604492, -0.09773317591499413]\n",
      "Weights Delta: [0.0, 0.0, 0.0] \n",
      "\n",
      "Iteration: 2\n",
      "Pred: 1.0\n",
      "Error: 0.0\n",
      "Delta: 0.0\n",
      "Weights: [0.11605667060212514, 0.20122786304604492, -0.09773317591499413]\n",
      "Weights Delta: [0.0, 0.0, 0.0] \n",
      "\n",
      "Iteration: 3\n",
      "Pred: 1.0\n",
      "Error: 0.0\n",
      "Delta: 0.0\n",
      "Weights: [0.11605667060212514, 0.20122786304604492, -0.09773317591499413]\n",
      "Weights Delta: [0.0, 0.0, 0.0] \n",
      "\n",
      "Iteration: 4\n",
      "Pred: 1.0\n",
      "Error: 0.0\n",
      "Delta: 0.0\n",
      "Weights: [0.11605667060212514, 0.20122786304604492, -0.09773317591499413]\n",
      "Weights Delta: [0.0, 0.0, 0.0] \n",
      "\n",
      "Iteration: 5\n",
      "Pred: 1.0\n",
      "Error: 0.0\n",
      "Delta: 0.0\n",
      "Weights: [0.11605667060212514, 0.20122786304604492, -0.09773317591499413]\n",
      "Weights Delta: [0.0, 0.0, 0.0] \n",
      "\n",
      "Iteration: 6\n",
      "Pred: 1.0\n",
      "Error: 0.0\n",
      "Delta: 0.0\n",
      "Weights: [0.11605667060212514, 0.20122786304604492, -0.09773317591499413]\n",
      "Weights Delta: [0.0, 0.0, 0.0] \n",
      "\n",
      "Iteration: 7\n",
      "Pred: 1.0\n",
      "Error: 0.0\n",
      "Delta: 0.0\n",
      "Weights: [0.11605667060212514, 0.20122786304604492, -0.09773317591499413]\n",
      "Weights Delta: [0.0, 0.0, 0.0] \n",
      "\n",
      "Iteration: 8\n",
      "Pred: 1.0\n",
      "Error: 0.0\n",
      "Delta: 0.0\n",
      "Weights: [0.11605667060212514, 0.20122786304604492, -0.09773317591499413]\n",
      "Weights Delta: [0.0, 0.0, 0.0] \n",
      "\n",
      "Iteration: 9\n",
      "Pred: 1.0\n",
      "Error: 0.0\n",
      "Delta: 0.0\n",
      "Weights: [0.11605667060212514, 0.20122786304604492, -0.09773317591499413]\n",
      "Weights Delta: [0.0, 0.0, 0.0] \n",
      "\n",
      "Iteration: 10\n",
      "Pred: 1.0\n",
      "Error: 0.0\n",
      "Delta: 0.0\n",
      "Weights: [0.11605667060212514, 0.20122786304604492, -0.09773317591499413]\n",
      "Weights Delta: [0.0, 0.0, 0.0] \n",
      "\n",
      "Iteration: 11\n",
      "Pred: 1.0\n",
      "Error: 0.0\n",
      "Delta: 0.0\n",
      "Weights: [0.11605667060212514, 0.20122786304604492, -0.09773317591499413]\n",
      "Weights Delta: [0.0, 0.0, 0.0] \n",
      "\n",
      "Iteration: 12\n",
      "Pred: 1.0\n",
      "Error: 0.0\n",
      "Delta: 0.0\n",
      "Weights: [0.11605667060212514, 0.20122786304604492, -0.09773317591499413]\n",
      "Weights Delta: [0.0, 0.0, 0.0] \n",
      "\n",
      "Iteration: 13\n",
      "Pred: 1.0\n",
      "Error: 0.0\n",
      "Delta: 0.0\n",
      "Weights: [0.11605667060212514, 0.20122786304604492, -0.09773317591499413]\n",
      "Weights Delta: [0.0, 0.0, 0.0] \n",
      "\n",
      "Iteration: 14\n",
      "Pred: 1.0\n",
      "Error: 0.0\n",
      "Delta: 0.0\n",
      "Weights: [0.11605667060212514, 0.20122786304604492, -0.09773317591499413]\n",
      "Weights Delta: [0.0, 0.0, 0.0] \n",
      "\n",
      "Iteration: 15\n",
      "Pred: 1.0\n",
      "Error: 0.0\n",
      "Delta: 0.0\n",
      "Weights: [0.11605667060212514, 0.20122786304604492, -0.09773317591499413]\n",
      "Weights Delta: [0.0, 0.0, 0.0] \n",
      "\n"
     ]
    }
   ],
   "execution_count": 16
  },
  {
   "metadata": {},
   "cell_type": "markdown",
   "source": "### One input many outputs",
   "id": "643f7460040be7cd"
  },
  {
   "metadata": {
    "ExecuteTime": {
     "end_time": "2025-01-26T14:55:33.487330Z",
     "start_time": "2025-01-26T14:55:33.482629Z"
    }
   },
   "cell_type": "code",
   "source": [
    "weights=[0.3, 0.2, 0.9]\n",
    "\n",
    "def ele_mul(number, vector):\n",
    "    output = [0, 0, 0]\n",
    "\n",
    "    assert(len(output) == len(vector))\n",
    "\n",
    "    for i in range(len(vector)):\n",
    "        output[i] = vector[i] * number\n",
    "    return output\n",
    "\n",
    "def neural_network(input, weights):\n",
    "    pred = ele_mul(input, weights)\n",
    "    return pred"
   ],
   "id": "29ad79f16fea7427",
   "outputs": [],
   "execution_count": 2
  },
  {
   "metadata": {
    "ExecuteTime": {
     "end_time": "2025-01-26T14:55:41.158936Z",
     "start_time": "2025-01-26T14:55:41.150575Z"
    }
   },
   "cell_type": "code",
   "source": [
    "wlrec = [0.65, 1.0, 1.0, 0.9]\n",
    "\n",
    "hurt = [0.1, 0.0, 0.0, 0.1]\n",
    "win = [1, 1, 0, 1]\n",
    "sad = [0.1, 0.0, 0.1, 0.2]\n",
    "\n",
    "input = wlrec[0]\n",
    "true = [hurt[0], win[0], sad[0]]\n",
    "\n",
    "pred = neural_network(input, weights)\n",
    "\n",
    "error = [0, 0, 0]\n",
    "delta = [0, 0, 0]\n",
    "\n",
    "for i in range(len(true)):\n",
    "    error[i] = (pred[i] - true[i])**2\n",
    "    delta[i] = (pred[i] - true[i])"
   ],
   "id": "cf5467d6cc0357d9",
   "outputs": [],
   "execution_count": 3
  },
  {
   "metadata": {
    "ExecuteTime": {
     "end_time": "2025-01-26T14:55:54.884563Z",
     "start_time": "2025-01-26T14:55:54.877953Z"
    }
   },
   "cell_type": "code",
   "source": [
    "weight_deltas = ele_mul(input, weights)\n",
    "alpha = 0.1\n",
    "\n",
    "for i in range(len(weights)):\n",
    "    weights[i] -= alpha * weight_deltas[i]\n",
    "\n",
    "print(\"Weights = \" + str(weights))\n",
    "print(\"Weights Delta = \" + str(weight_deltas))"
   ],
   "id": "a3ff1d211f8c76ab",
   "outputs": [
    {
     "name": "stdout",
     "output_type": "stream",
     "text": [
      "Weights = [0.28049999999999997, 0.187, 0.8415]\n",
      "Weights Delta = [0.195, 0.13, 0.5850000000000001]\n"
     ]
    }
   ],
   "execution_count": 4
  },
  {
   "metadata": {},
   "cell_type": "markdown",
   "source": "### Many inputs many outputs",
   "id": "16737920d46a31de"
  },
  {
   "metadata": {
    "ExecuteTime": {
     "end_time": "2025-01-26T14:57:17.295971Z",
     "start_time": "2025-01-26T14:57:17.291145Z"
    }
   },
   "cell_type": "code",
   "source": [
    "def w_sum(a, b):\n",
    "    assert(len(a) == len(b))\n",
    "    output = 0\n",
    "    for i in range(len(a)):\n",
    "        output += (a[i] * b[i])\n",
    "    return output"
   ],
   "id": "71ac5e0e5972bc94",
   "outputs": [],
   "execution_count": 5
  },
  {
   "metadata": {
    "ExecuteTime": {
     "end_time": "2025-01-26T14:57:38.372060Z",
     "start_time": "2025-01-26T14:57:38.365855Z"
    }
   },
   "cell_type": "code",
   "source": [
    "weights = [\n",
    "#  games %wins fansNum\n",
    "    [0.1, 0.1, -0.3], # traumas?\n",
    "    [0.1, 0.2, 0.0], # wins?\n",
    "    [0.0, 1.3, 0.1] # sadness\n",
    "]\n",
    "\n",
    "def vect_mat_mul(vector, matrix):\n",
    "    assert(len(vector) == len(matrix))\n",
    "    output = [0, 0, 0]\n",
    "\n",
    "    for i in range(len(vector)):\n",
    "        output[i] = w_sum(vector, matrix[i])\n",
    "\n",
    "    return output"
   ],
   "id": "8b76546afbb19ea4",
   "outputs": [],
   "execution_count": 6
  },
  {
   "metadata": {
    "ExecuteTime": {
     "end_time": "2025-01-26T15:10:35.471985Z",
     "start_time": "2025-01-26T15:10:35.467780Z"
    }
   },
   "cell_type": "code",
   "source": [
    "def neural_network(input, weights):\n",
    "    pred = vect_mat_mul(input, weights)\n",
    "    return pred"
   ],
   "id": "cfdba02ab8d51739",
   "outputs": [],
   "execution_count": 16
  },
  {
   "metadata": {
    "ExecuteTime": {
     "end_time": "2025-01-26T15:10:39.759303Z",
     "start_time": "2025-01-26T15:10:39.754603Z"
    }
   },
   "cell_type": "code",
   "source": [
    "def zeros_matrix(width, height):\n",
    "    return [[0 for _ in range(width)] for _ in range(height)]"
   ],
   "id": "f99eacf4ad3651b3",
   "outputs": [],
   "execution_count": 17
  },
  {
   "metadata": {
    "ExecuteTime": {
     "end_time": "2025-01-26T15:10:40.112613Z",
     "start_time": "2025-01-26T15:10:40.107509Z"
    }
   },
   "cell_type": "code",
   "source": [
    "def outer_prod(vec_a, vec_b):\n",
    "    out = zeros_matrix(len(vec_a), len(vec_b))\n",
    "\n",
    "    for i in range(len(vec_a)):\n",
    "        for j in range(len(vec_b)):\n",
    "            out[i][j] = vec_a[i] * vec_b[j]\n",
    "\n",
    "    return out"
   ],
   "id": "db5f00fc1d90747",
   "outputs": [],
   "execution_count": 18
  },
  {
   "metadata": {
    "ExecuteTime": {
     "end_time": "2025-01-26T15:10:41.017560Z",
     "start_time": "2025-01-26T15:10:41.012225Z"
    }
   },
   "cell_type": "code",
   "source": [
    "toes = [8.5, 9.5, 9.9, 9.0]\n",
    "wlrec = [0.65, 0.8, 0.8, 0.9]\n",
    "nfans = [1.2, 1.3, 0.5, 1.0]\n",
    "\n",
    "hurt = [0.1, 0.0, 0.0, 0.1]\n",
    "win = [1, 1, 0, 1]\n",
    "sad = [0.1, 0.0, 0.1, 0.2]\n",
    "\n",
    "alpha = 0.01\n",
    "input = [toes[0], wlrec[0], nfans[0]]\n",
    "true = [hurt[0], win[0], sad[0]]"
   ],
   "id": "2c8b8fe5cd4d85ae",
   "outputs": [],
   "execution_count": 19
  },
  {
   "metadata": {
    "ExecuteTime": {
     "end_time": "2025-01-26T15:10:41.582025Z",
     "start_time": "2025-01-26T15:10:41.576645Z"
    }
   },
   "cell_type": "code",
   "source": [
    "pred = neural_network(input, weights)\n",
    "error = [0, 0, 0]\n",
    "delta = [0, 0, 0]\n",
    "\n",
    "for i in range(len(true)):\n",
    "    error[i] = (pred[i] - true[i])**2\n",
    "    delta[i] = (pred[i] - true[i])"
   ],
   "id": "bdeefb4edaf96a2d",
   "outputs": [],
   "execution_count": 20
  },
  {
   "metadata": {
    "ExecuteTime": {
     "end_time": "2025-01-26T15:16:35.968400Z",
     "start_time": "2025-01-26T15:16:35.965253Z"
    }
   },
   "cell_type": "code",
   "source": [
    "weight_deltas = outer_prod(input, delta)\n",
    "\n",
    "for i in range(len(weights)):\n",
    "    for j in range(len(weights[i])):\n",
    "        weights[i][j] -= alpha * weight_deltas[i][j]\n",
    "\n",
    "print(\"Weights Delta = \" + str(weight_deltas))\n",
    "print(\"Weights:\", str(weights))\n",
    "print(\"Prediction = \" + str(pred))\n",
    "print(\"Error = \" + str(error))"
   ],
   "id": "280ca0562338888c",
   "outputs": [
    {
     "name": "stdout",
     "output_type": "stream",
     "text": [
      "Weights Delta = [[3.8675000000000006, -0.1699999999999992, 7.352500000000001], [0.29575000000000007, -0.01299999999999994, 0.5622500000000001], [0.546, -0.023999999999999886, 1.038]]\n",
      "Weights: [[0.061325, 0.1017, -0.373525], [0.0970425, 0.20013, -0.005622500000000002], [-0.0054600000000000004, 1.30024, 0.08962]]\n",
      "Prediction = [0.555, 0.9800000000000001, 0.9650000000000001]\n",
      "Error = [0.20702500000000007, 0.0003999999999999963, 0.7482250000000001]\n"
     ]
    }
   ],
   "execution_count": 23
  },
  {
   "metadata": {},
   "cell_type": "code",
   "outputs": [],
   "execution_count": null,
   "source": "",
   "id": "d840c48d3e7c9c59"
  }
 ],
 "metadata": {
  "kernelspec": {
   "display_name": "Python 3",
   "language": "python",
   "name": "python3"
  },
  "language_info": {
   "codemirror_mode": {
    "name": "ipython",
    "version": 2
   },
   "file_extension": ".py",
   "mimetype": "text/x-python",
   "name": "python",
   "nbconvert_exporter": "python",
   "pygments_lexer": "ipython2",
   "version": "2.7.6"
  }
 },
 "nbformat": 4,
 "nbformat_minor": 5
}
